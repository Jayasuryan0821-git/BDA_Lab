{
  "nbformat": 4,
  "nbformat_minor": 0,
  "metadata": {
    "colab": {
      "provenance": [],
      "authorship_tag": "ABX9TyMbj0GSMfcCJMoNzHIboBBL",
      "include_colab_link": true
    },
    "kernelspec": {
      "name": "python3",
      "display_name": "Python 3"
    },
    "language_info": {
      "name": "python"
    }
  },
  "cells": [
    {
      "cell_type": "markdown",
      "metadata": {
        "id": "view-in-github",
        "colab_type": "text"
      },
      "source": [
        "<a href=\"https://colab.research.google.com/github/dev0419/BDA_Lab/blob/main/Lab-4/Recommendation_Systems_L4.ipynb\" target=\"_parent\"><img src=\"https://colab.research.google.com/assets/colab-badge.svg\" alt=\"Open In Colab\"/></a>"
      ]
    },
    {
      "cell_type": "markdown",
      "source": [
        "1. Demonstrate how to load a dataset suitable for recommendation systems into a PySpark DataFrame"
      ],
      "metadata": {
        "id": "UmVxItS8czmJ"
      }
    },
    {
      "cell_type": "code",
      "source": [
        "from pyspark.sql import SparkSession\n",
        "spark = SparkSession.builder.appName('Recommendation_System').getOrCreate()\n",
        "df = spark.read.json('movies.json')\n",
        "df.show(5)"
      ],
      "metadata": {
        "colab": {
          "base_uri": "https://localhost:8080/"
        },
        "id": "mLVU2vtKdN82",
        "outputId": "efe47781-0e9d-4b9e-e7d7-720951edd03d"
      },
      "execution_count": 3,
      "outputs": [
        {
          "output_type": "stream",
          "name": "stdout",
          "text": [
            "+-----------+----------+--------------------+--------------------+-----+--------------------+----------+--------------+\n",
            "|helpfulness|product_id|        profile_name|              review|score|             summary|      time|       user_id|\n",
            "+-----------+----------+--------------------+--------------------+-----+--------------------+----------+--------------+\n",
            "|        7/7|B003AI2VGA|Brian E. Erland \"...|Synopsis: On the ...|  3.0|\"There Is So Much...|1182729600|A141HP4LYPWMSR|\n",
            "|        4/4|B003AI2VGA|          Grady Harp|THE VIRGIN OF JUA...|  3.0|Worthwhile and Im...|1181952000|A328S9RN3U5M68|\n",
            "|       8/10|B003AI2VGA|Chrissy K. McVay ...|The scenes in thi...|  5.0|This movie needed...|1164844800|A1I7QGUDP043DG|\n",
            "|        1/1|B003AI2VGA|        golgotha.gov|THE VIRGIN OF JUA...|  3.0|distantly based o...|1197158400|A1M5405JH9THP9|\n",
            "|        1/1|B003AI2VGA|KerrLines \"&#34;M...|Informationally, ...|  3.0|\"What's going on ...|1188345600| ATXL536YX71TR|\n",
            "+-----------+----------+--------------------+--------------------+-----+--------------------+----------+--------------+\n",
            "only showing top 5 rows\n",
            "\n"
          ]
        }
      ]
    },
    {
      "cell_type": "markdown",
      "source": [
        "2. Implement a PySpark script that splits the data and trains a recommendation model."
      ],
      "metadata": {
        "id": "nt12L1AufF29"
      }
    },
    {
      "cell_type": "code",
      "source": [
        "from pyspark.sql.functions import col\n",
        "from pyspark.ml.evaluation import RegressionEvaluator\n",
        "from pyspark.ml.recommendation import ALS\n",
        "from pyspark.ml.feature import StringIndexer\n",
        "\n",
        "data = df.select(col('user_id'),col('product_id'),col('score'))\n",
        "data.show(5)\n",
        "user_indexer = StringIndexer(inputCol='user_id',outputCol='user_index').fit(data)\n",
        "product_indexer = StringIndexer(inputCol='product_id',outputCol='product_index').fit(data)\n",
        "print(\"Transformed dataframe\")\n",
        "data_indexed = user_indexer.transform(product_indexer.transform(data))\n",
        "data_indexed.show(5)\n",
        "data_indexed = data_indexed.withColumnRenamed('score','rating')\n",
        "(train,test) = data_indexed.randomSplit([0.8,0.2])\n",
        "print(\"train set\")\n",
        "train.show(5)\n",
        "print(\"test set\")\n",
        "test.show(5)\n"
      ],
      "metadata": {
        "colab": {
          "base_uri": "https://localhost:8080/"
        },
        "id": "p7wbp6yDfLFe",
        "outputId": "d8c3cc24-29df-41aa-8cb9-ae01167d45fb"
      },
      "execution_count": 13,
      "outputs": [
        {
          "output_type": "stream",
          "name": "stdout",
          "text": [
            "+--------------+----------+-----+\n",
            "|       user_id|product_id|score|\n",
            "+--------------+----------+-----+\n",
            "|A141HP4LYPWMSR|B003AI2VGA|  3.0|\n",
            "|A328S9RN3U5M68|B003AI2VGA|  3.0|\n",
            "|A1I7QGUDP043DG|B003AI2VGA|  5.0|\n",
            "|A1M5405JH9THP9|B003AI2VGA|  3.0|\n",
            "| ATXL536YX71TR|B003AI2VGA|  3.0|\n",
            "+--------------+----------+-----+\n",
            "only showing top 5 rows\n",
            "\n",
            "Transformed dataframe\n",
            "+--------------+----------+-----+-------------+----------+\n",
            "|       user_id|product_id|score|product_index|user_index|\n",
            "+--------------+----------+-----+-------------+----------+\n",
            "|A141HP4LYPWMSR|B003AI2VGA|  3.0|        731.0|      32.0|\n",
            "|A328S9RN3U5M68|B003AI2VGA|  3.0|        731.0|       3.0|\n",
            "|A1I7QGUDP043DG|B003AI2VGA|  5.0|        731.0|     312.0|\n",
            "|A1M5405JH9THP9|B003AI2VGA|  3.0|        731.0|   10917.0|\n",
            "| ATXL536YX71TR|B003AI2VGA|  3.0|        731.0|     173.0|\n",
            "+--------------+----------+-----+-------------+----------+\n",
            "only showing top 5 rows\n",
            "\n",
            "train set\n",
            "+--------------+----------+------+-------------+----------+\n",
            "|       user_id|product_id|rating|product_index|user_index|\n",
            "+--------------+----------+------+-------------+----------+\n",
            "|A1007T2IVFQKYN|B006OIW2NA|   5.0|        120.0|    5979.0|\n",
            "|A100JCBNALJFAW|B000AMWIVM|   3.0|         11.0|    1926.0|\n",
            "|A100PY9HC7VVI8|B001LMU1A0|   5.0|        258.0|    5981.0|\n",
            "|A101LE0G4T2RD0|B0001ADAVK|   5.0|        100.0|    5985.0|\n",
            "|A101PLUE57KUSS|B000065K9R|   5.0|         68.0|    5987.0|\n",
            "+--------------+----------+------+-------------+----------+\n",
            "only showing top 5 rows\n",
            "\n",
            "test set\n",
            "+--------------+----------+------+-------------+----------+\n",
            "|       user_id|product_id|rating|product_index|user_index|\n",
            "+--------------+----------+------+-------------+----------+\n",
            "|A10033ZS10JQYA|B001NFNFMQ|   4.0|          1.0|    5977.0|\n",
            "|A100RFQHFO005W|B0000DK4QL|   3.0|         49.0|    5982.0|\n",
            "|A100Y8WSLFJN7Q|B000063W1R|   5.0|         37.0|    5984.0|\n",
            "|A1022GOAE7J1R1|B004SIP6BI|   5.0|         45.0|    5989.0|\n",
            "|A102YM3H3O003E|B00151QYU8|   5.0|         35.0|    5993.0|\n",
            "+--------------+----------+------+-------------+----------+\n",
            "only showing top 5 rows\n",
            "\n"
          ]
        }
      ]
    },
    {
      "cell_type": "markdown",
      "source": [
        "3. Implement a PySpark script using the ALS algorithm for collaborative filtering."
      ],
      "metadata": {
        "id": "iM34vxUbqj4P"
      }
    },
    {
      "cell_type": "code",
      "source": [
        "als = ALS(maxIter = 5,regParam = 0.01,userCol = 'user_index',itemCol = 'product_index',ratingCol='rating',coldStartStrategy='drop')\n",
        "model = als.fit(train)\n",
        "pred = model.transform(test)\n",
        "print(\"Predictions\")\n",
        "pred.show(5)"
      ],
      "metadata": {
        "colab": {
          "base_uri": "https://localhost:8080/"
        },
        "id": "Gd-HHwumqlRk",
        "outputId": "e3b4ba78-a679-4277-b948-d7358c27df37"
      },
      "execution_count": 14,
      "outputs": [
        {
          "output_type": "stream",
          "name": "stdout",
          "text": [
            "Predictions\n",
            "+--------------+----------+------+-------------+----------+-----------+\n",
            "|       user_id|product_id|rating|product_index|user_index| prediction|\n",
            "+--------------+----------+------+-------------+----------+-----------+\n",
            "|A1C80B497LCYKA|6304239343|   5.0|        496.0|     586.0| -12.712129|\n",
            "|A1WBXDI7LRPLXB|6304239343|   4.0|        496.0|    2868.0|-0.84937793|\n",
            "|A2FS6OGMZMALTD|6304239343|   5.0|        496.0|    1430.0|  2.9538493|\n",
            "|A1KF9NQLPWUF75|B003U6SJXQ|   5.0|        148.0|    1265.0|  0.8086522|\n",
            "|A29XWXJ525HH7O|B003U6SJXQ|   2.0|        148.0|    3276.0| 0.59714407|\n",
            "+--------------+----------+------+-------------+----------+-----------+\n",
            "only showing top 5 rows\n",
            "\n"
          ]
        }
      ]
    },
    {
      "cell_type": "markdown",
      "source": [
        "4. Implement code to evaluate the performance of the recommendation model using appropriate metrics"
      ],
      "metadata": {
        "id": "7ILOTZt6qScj"
      }
    },
    {
      "cell_type": "code",
      "source": [
        "evaluator = RegressionEvaluator(metricName='rmse',labelCol='rating',predictionCol='prediction')\n",
        "rmse = evaluator.evaluate(pred)\n",
        "print(f\"RMSE: {rmse}\")\n",
        "userRecs = model.recommendForAllUsers(5)\n",
        "itemRecs = model.recommendForAllItems(5)\n",
        "\n",
        "userRecs.show(5)\n",
        "itemRecs.show(5)"
      ],
      "metadata": {
        "colab": {
          "base_uri": "https://localhost:8080/"
        },
        "id": "xHnYEkpMqOcq",
        "outputId": "13e754c9-8929-4057-98a9-5879cc17c8e0"
      },
      "execution_count": 15,
      "outputs": [
        {
          "output_type": "stream",
          "name": "stdout",
          "text": [
            "RMSE: 5.156665028572138\n",
            "+----------+--------------------+\n",
            "|user_index|     recommendations|\n",
            "+----------+--------------------+\n",
            "|         1|[{775, 19.085175}...|\n",
            "|         3|[{858, 31.643036}...|\n",
            "|         5|[{755, 30.92457},...|\n",
            "|         6|[{557, 29.00822},...|\n",
            "|         9|[{653, 33.269337}...|\n",
            "+----------+--------------------+\n",
            "only showing top 5 rows\n",
            "\n",
            "+-------------+--------------------+\n",
            "|product_index|     recommendations|\n",
            "+-------------+--------------------+\n",
            "|            1|[{159, 7.9197154}...|\n",
            "|            3|[{174, 7.697837},...|\n",
            "|            5|[{246, 12.1970005...|\n",
            "|            6|[{395, 9.147764},...|\n",
            "|            9|[{269, 9.744622},...|\n",
            "+-------------+--------------------+\n",
            "only showing top 5 rows\n",
            "\n"
          ]
        }
      ]
    }
  ]
}