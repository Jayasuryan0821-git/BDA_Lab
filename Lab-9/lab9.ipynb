{
 "cells": [
  {
   "cell_type": "markdown",
   "metadata": {},
   "source": [
    "1) Implement a PySpark script that runs Monte Carlo simulations in parallel."
   ]
  },
  {
   "cell_type": "code",
   "execution_count": 3,
   "metadata": {},
   "outputs": [
    {
     "name": "stdout",
     "output_type": "stream",
     "text": [
      "ABAX Forecast:\n"
     ]
    },
    {
     "name": "stderr",
     "output_type": "stream",
     "text": [
      "                                                                                \r"
     ]
    },
    {
     "name": "stdout",
     "output_type": "stream",
     "text": [
      "+------+---------+-----+-----+-----+-----+------+-----------------+--------------------+\n",
      "|source|     Date| Open| High|  Low|Close|Volume|SimulationResults|                  _9|\n",
      "+------+---------+-----+-----+-----+-----+------+-----------------+--------------------+\n",
      "|  ABAX|31-Dec-13|52.94|54.37|52.25|52.83| 79429|             ABAX|[0.92711389713746...|\n",
      "|  ABAX|30-Dec-13|50.36|54.10|50.36|52.95|131095|             ABAX|[0.92711389713746...|\n",
      "|  ABAX|27-Dec-13|50.38|50.80|49.67|50.52| 54354|             ABAX|[0.92711389713746...|\n",
      "|  ABAX|26-Dec-13|50.50|51.19|49.67| 50.0| 74414|             ABAX|[0.92711389713746...|\n",
      "|  ABAX|24-Dec-13|49.85|50.60|49.66|49.99| 36872|             ABAX|[0.92711389713746...|\n",
      "+------+---------+-----+-----+-----+-----+------+-----------------+--------------------+\n",
      "only showing top 5 rows\n",
      "\n",
      "AAME Forecast:\n"
     ]
    },
    {
     "name": "stderr",
     "output_type": "stream",
     "text": [
      "                                                                                \r"
     ]
    },
    {
     "name": "stdout",
     "output_type": "stream",
     "text": [
      "+------+---------+-----+-----+-----+-----+------+-----------------+--------------------+\n",
      "|source|     Date| Open| High|  Low|Close|Volume|SimulationResults|                  _9|\n",
      "+------+---------+-----+-----+-----+-----+------+-----------------+--------------------+\n",
      "|  AAME|31-Dec-13|52.94|54.37|52.25|52.83| 79429|             AAME|[0.20106634806985...|\n",
      "|  AAME|30-Dec-13|50.36|54.10|50.36|52.95|131095|             AAME|[0.20106634806985...|\n",
      "|  AAME|27-Dec-13|50.38|50.80|49.67|50.52| 54354|             AAME|[0.20106634806985...|\n",
      "|  AAME|26-Dec-13|50.50|51.19|49.67| 50.0| 74414|             AAME|[0.20106634806985...|\n",
      "|  AAME|24-Dec-13|49.85|50.60|49.66|49.99| 36872|             AAME|[0.20106634806985...|\n",
      "+------+---------+-----+-----+-----+-----+------+-----------------+--------------------+\n",
      "only showing top 5 rows\n",
      "\n",
      "AEPI Forecast:\n",
      "+------+---------+-----+-----+-----+-----+------+-----------------+--------------------+\n",
      "|source|     Date| Open| High|  Low|Close|Volume|SimulationResults|                  _9|\n",
      "+------+---------+-----+-----+-----+-----+------+-----------------+--------------------+\n",
      "|  AEPI|31-Dec-13|52.94|54.37|52.25|52.83| 79429|             AEPI|[0.59086737297371...|\n",
      "|  AEPI|30-Dec-13|50.36|54.10|50.36|52.95|131095|             AEPI|[0.59086737297371...|\n",
      "|  AEPI|27-Dec-13|50.38|50.80|49.67|50.52| 54354|             AEPI|[0.59086737297371...|\n",
      "|  AEPI|26-Dec-13|50.50|51.19|49.67| 50.0| 74414|             AEPI|[0.59086737297371...|\n",
      "|  AEPI|24-Dec-13|49.85|50.60|49.66|49.99| 36872|             AEPI|[0.59086737297371...|\n",
      "+------+---------+-----+-----+-----+-----+------+-----------------+--------------------+\n",
      "only showing top 5 rows\n",
      "\n"
     ]
    }
   ],
   "source": [
    "import pyspark\n",
    "from pyspark.sql import SparkSession\n",
    "from pyspark.sql.functions import lit\n",
    "import random\n",
    "\n",
    "def monte_carlo_simulation(rows):\n",
    "    num_simulations = 1000\n",
    "    results = []\n",
    "\n",
    "    for _ in range(num_simulations):\n",
    "\n",
    "        simulation_result = random.uniform(0, 1)\n",
    "        results.append(simulation_result)\n",
    "\n",
    "    return [(*row, results) for row in rows]\n",
    "\n",
    "spark = SparkSession.builder.appName('MonteCarlo').getOrCreate()\n",
    "\n",
    "df = spark.read.csv(['/home/lplab/Desktop/Jayasuryan_BDA/stocks/ABAX.csv',\n",
    "                     '/home/lplab/Desktop/Jayasuryan_BDA/stocks/AAME.csv',\n",
    "                     '/home/lplab/Desktop/Jayasuryan_BDA/stocks/AEPI.csv'],\n",
    "                     inferSchema=True, header=True)\n",
    "\n",
    "df = df.withColumn(\"source\", lit(\"ABAX\")) \\\n",
    "       .union(df.withColumn(\"source\", lit(\"AAME\"))) \\\n",
    "       .union(df.withColumn(\"source\", lit(\"AEPI\")))\n",
    "\n",
    "simulation_results = df.rdd \\\n",
    "                       .map(lambda row: (row['source'], row)) \\\n",
    "                       .groupByKey() \\\n",
    "                       .flatMapValues(monte_carlo_simulation)\n",
    "\n",
    "\n",
    "\n",
    "simulation_results_df = simulation_results.map(lambda x: (x[0], *x[1])).toDF([\"source\", \"Date\", \"Open\", \"High\", \"Low\", \"Close\", \"Volume\", \"SimulationResults\"])\n",
    "\n",
    "abax_forecast = simulation_results_df.filter(simulation_results_df['source'] == 'ABAX')\n",
    "aame_forecast = simulation_results_df.filter(simulation_results_df['source'] == 'AAME')\n",
    "aepi_forecast = simulation_results_df.filter(simulation_results_df['source'] == 'AEPI')\n",
    "\n",
    "print(\"ABAX Forecast:\")\n",
    "abax_forecast.show(5)\n",
    "\n",
    "print(\"AAME Forecast:\")\n",
    "aame_forecast.show(5)\n",
    "\n",
    "print(\"AEPI Forecast:\")\n",
    "aepi_forecast.show(5)\n"
   ]
  },
  {
   "cell_type": "markdown",
   "metadata": {},
   "source": [
    "2. Demonstrate how to define and apply probability distributions to input parameters using\n",
    "PySpark."
   ]
  },
  {
   "cell_type": "code",
   "execution_count": 4,
   "metadata": {},
   "outputs": [
    {
     "name": "stdout",
     "output_type": "stream",
     "text": [
      "ABAX Forecast:\n"
     ]
    },
    {
     "name": "stderr",
     "output_type": "stream",
     "text": [
      "                                                                                \r"
     ]
    },
    {
     "name": "stdout",
     "output_type": "stream",
     "text": [
      "+------+---------+-----+-----+-----+-----+------+-----------------+--------------------+\n",
      "|source|     Date| Open| High|  Low|Close|Volume|SimulationResults|                  _9|\n",
      "+------+---------+-----+-----+-----+-----+------+-----------------+--------------------+\n",
      "|  ABAX|31-Dec-13|52.94|54.37|52.25|52.83| 79429|             ABAX|[-0.4986238883543...|\n",
      "|  ABAX|30-Dec-13|50.36|54.10|50.36|52.95|131095|             ABAX|[-0.4986238883543...|\n",
      "|  ABAX|27-Dec-13|50.38|50.80|49.67|50.52| 54354|             ABAX|[-0.4986238883543...|\n",
      "|  ABAX|26-Dec-13|50.50|51.19|49.67| 50.0| 74414|             ABAX|[-0.4986238883543...|\n",
      "|  ABAX|24-Dec-13|49.85|50.60|49.66|49.99| 36872|             ABAX|[-0.4986238883543...|\n",
      "+------+---------+-----+-----+-----+-----+------+-----------------+--------------------+\n",
      "only showing top 5 rows\n",
      "\n",
      "AAME Forecast:\n"
     ]
    },
    {
     "name": "stderr",
     "output_type": "stream",
     "text": [
      "                                                                                \r"
     ]
    },
    {
     "name": "stdout",
     "output_type": "stream",
     "text": [
      "+------+---------+-----+-----+-----+-----+------+-----------------+--------------------+\n",
      "|source|     Date| Open| High|  Low|Close|Volume|SimulationResults|                  _9|\n",
      "+------+---------+-----+-----+-----+-----+------+-----------------+--------------------+\n",
      "|  AAME|31-Dec-13|52.94|54.37|52.25|52.83| 79429|             AAME|[0.96410721363802...|\n",
      "|  AAME|30-Dec-13|50.36|54.10|50.36|52.95|131095|             AAME|[0.96410721363802...|\n",
      "|  AAME|27-Dec-13|50.38|50.80|49.67|50.52| 54354|             AAME|[0.96410721363802...|\n",
      "|  AAME|26-Dec-13|50.50|51.19|49.67| 50.0| 74414|             AAME|[0.96410721363802...|\n",
      "|  AAME|24-Dec-13|49.85|50.60|49.66|49.99| 36872|             AAME|[0.96410721363802...|\n",
      "+------+---------+-----+-----+-----+-----+------+-----------------+--------------------+\n",
      "only showing top 5 rows\n",
      "\n",
      "AEPI Forecast:\n",
      "+------+---------+-----+-----+-----+-----+------+-----------------+--------------------+\n",
      "|source|     Date| Open| High|  Low|Close|Volume|SimulationResults|                  _9|\n",
      "+------+---------+-----+-----+-----+-----+------+-----------------+--------------------+\n",
      "|  AEPI|31-Dec-13|52.94|54.37|52.25|52.83| 79429|             AEPI|[-0.4409210572453...|\n",
      "|  AEPI|30-Dec-13|50.36|54.10|50.36|52.95|131095|             AEPI|[-0.4409210572453...|\n",
      "|  AEPI|27-Dec-13|50.38|50.80|49.67|50.52| 54354|             AEPI|[-0.4409210572453...|\n",
      "|  AEPI|26-Dec-13|50.50|51.19|49.67| 50.0| 74414|             AEPI|[-0.4409210572453...|\n",
      "|  AEPI|24-Dec-13|49.85|50.60|49.66|49.99| 36872|             AEPI|[-0.4409210572453...|\n",
      "+------+---------+-----+-----+-----+-----+------+-----------------+--------------------+\n",
      "only showing top 5 rows\n",
      "\n"
     ]
    }
   ],
   "source": [
    "import pyspark\n",
    "from pyspark.sql import SparkSession\n",
    "from pyspark.sql.functions import lit\n",
    "import math\n",
    "\n",
    "def monte_carlo_simulation(rows):\n",
    "    num_simulations = 1000\n",
    "    results = []\n",
    "\n",
    "    for _ in range(num_simulations):\n",
    "        u1 = random.uniform(0, 1)\n",
    "        u2 = random.uniform(0, 1)\n",
    "        \n",
    "        z1 = math.sqrt(-2 * math.log(u1)) * math.cos(2 * math.pi * u2)\n",
    "        z2 = math.sqrt(-2 * math.log(u1)) * math.sin(2 * math.pi * u2)\n",
    "        \n",
    "        results.append(z1)\n",
    "\n",
    "    return [(*row, results) for row in rows]\n",
    "\n",
    "spark = SparkSession.builder.appName('MonteCarlo').getOrCreate()\n",
    "\n",
    "df = spark.read.csv(['/home/lplab/Desktop/Jayasuryan_BDA/stocks/ABAX.csv',\n",
    "                     '/home/lplab/Desktop/Jayasuryan_BDA/stocks/AAME.csv',\n",
    "                     '/home/lplab/Desktop/Jayasuryan_BDA/stocks/AEPI.csv'],\n",
    "                     inferSchema=True, header=True)\n",
    "\n",
    "df = df.withColumn(\"source\", lit(\"ABAX\")) \\\n",
    "       .union(df.withColumn(\"source\", lit(\"AAME\"))) \\\n",
    "       .union(df.withColumn(\"source\", lit(\"AEPI\")))\n",
    "\n",
    "simulation_results = df.rdd \\\n",
    "                       .map(lambda row: (row['source'], row)) \\\n",
    "                       .groupByKey() \\\n",
    "                       .flatMapValues(monte_carlo_simulation)\n",
    "\n",
    "simulation_results_df = simulation_results.map(lambda x: (x[0], *x[1])).toDF([\"source\", \"Date\", \"Open\", \"High\", \"Low\", \"Close\", \"Volume\", \"SimulationResults\"])\n",
    "\n",
    "abax_forecast = simulation_results_df.filter(simulation_results_df['source'] == 'ABAX')\n",
    "aame_forecast = simulation_results_df.filter(simulation_results_df['source'] == 'AAME')\n",
    "aepi_forecast = simulation_results_df.filter(simulation_results_df['source'] == 'AEPI')\n",
    "\n",
    "print(\"ABAX Forecast:\")\n",
    "abax_forecast.show(5)\n",
    "\n",
    "print(\"AAME Forecast:\")\n",
    "aame_forecast.show(5)\n",
    "\n",
    "print(\"AEPI Forecast:\")\n",
    "aepi_forecast.show(5)\n"
   ]
  }
 ],
 "metadata": {
  "kernelspec": {
   "display_name": "Python 3",
   "language": "python",
   "name": "python3"
  },
  "language_info": {
   "codemirror_mode": {
    "name": "ipython",
    "version": 3
   },
   "file_extension": ".py",
   "mimetype": "text/x-python",
   "name": "python",
   "nbconvert_exporter": "python",
   "pygments_lexer": "ipython3",
   "version": "3.10.12"
  }
 },
 "nbformat": 4,
 "nbformat_minor": 2
}
