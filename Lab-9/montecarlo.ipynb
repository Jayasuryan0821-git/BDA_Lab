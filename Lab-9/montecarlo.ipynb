{
 "cells": [
  {
   "cell_type": "code",
   "execution_count": 1,
   "metadata": {},
   "outputs": [],
   "source": [
    "import pyspark\n",
    "import os\n",
    "import sys\n",
    "from pyspark import SparkContext\n",
    "os.environ['PYSPARK_PYTHON'] = sys.executable\n",
    "os.environ['PYSPARK_DRIVER_PYTHON'] = sys.executable\n",
    "from pyspark.sql import SparkSession\n",
    "from pyspark.sql.functions import udf\n",
    "from pyspark.sql.types import FloatType\n",
    "import numpy as np\n",
    "import pyspark.sql.functions as fun\n",
    "spark = SparkSession.builder.config(\"spark.driver.memory\", \"16g\").appName('chapter_8').getOrCreate()"
   ]
  },
  {
   "cell_type": "code",
   "execution_count": 2,
   "metadata": {},
   "outputs": [
    {
     "name": "stdout",
     "output_type": "stream",
     "text": [
      "+---------+----+----+----+-----+------+\n",
      "|     Date|Open|High| Low|Close|Volume|\n",
      "+---------+----+----+----+-----+------+\n",
      "|31-Dec-13|4.04|4.13|3.96| 4.09| 30735|\n",
      "|30-Dec-13|4.05|4.05|3.84|  3.9| 14646|\n",
      "+---------+----+----+----+-----+------+\n",
      "only showing top 2 rows\n",
      "\n"
     ]
    }
   ],
   "source": [
    "stocks = spark.read.option(\"header\", \"true\").option(\"inferSchema\", \"true\").csv(\"Datasets/stocks/AAME.csv\")\n",
    "stocks.show(2)"
   ]
  },
  {
   "cell_type": "code",
   "execution_count": 4,
   "metadata": {},
   "outputs": [
    {
     "name": "stdout",
     "output_type": "stream",
     "text": [
      "column : Open, mean:2.3776905972045754, std_dev_val:0.8594838332913094\n",
      "column : High, mean:2.445060355781448, std_dev_val:0.855811640978281\n",
      "column : Low, mean:2.3282719186785252, std_dev_val:0.8412114675601051\n",
      "column : Close, mean:2.3474244152880743, std_dev_val:0.8579680474599332\n",
      "column : Volume, mean:6616.119794637764, std_dev_val:14076.882853421579\n"
     ]
    }
   ],
   "source": [
    "params = {}\n",
    "for col_name in stocks.columns:\n",
    "    if col_name != \"Date\" and col_name != \"Symbol\":\n",
    "        std_dev_val = stocks.select(fun.stddev(col_name)).collect()[0][0]\n",
    "        mean_val = stocks.select(fun.mean(col_name)).collect()[0][0]\n",
    "        params[col_name] = {'mean':mean_val,'std_dev':std_dev_val}\n",
    "\n",
    "for col_name,val in params.items():\n",
    "    print(f\"column : {col_name}, mean:{val['mean']}, std_dev_val:{val['std_dev']}\")\n"
   ]
  },
  {
   "cell_type": "code",
   "execution_count": 5,
   "metadata": {},
   "outputs": [
    {
     "name": "stdout",
     "output_type": "stream",
     "text": [
      "+---------+----+----+----+-----+------+--------------+---------------+--------------+-------------+-------------+\n",
      "|     Date|Open|High| Low|Close|Volume|simulated_open|simulated_close|simulated_high|simulated_low|simulated_vol|\n",
      "+---------+----+----+----+-----+------+--------------+---------------+--------------+-------------+-------------+\n",
      "|31-Dec-13|4.04|4.13|3.96| 4.09| 30735|     4.0679626|      2.4697208|     0.7865059|    159.87758|    11601.194|\n",
      "|30-Dec-13|4.05|4.05|3.84|  3.9| 14646|      5.104902|      6.1638117|     6.2224193|   -44.121853|   -12360.729|\n",
      "|27-Dec-13|4.02|4.05|3.99| 4.05|  5047|      5.202862|      3.8933122|     0.5958919|    -118.4245|     3247.335|\n",
      "|26-Dec-13|3.99|4.04|3.70| 4.01|  6309|      2.545513|      4.4349184|    0.72486526|   -7.7052746|    6412.2915|\n",
      "|24-Dec-13|3.90|3.97|3.84| 3.95| 13592|      2.435408|      0.6400224|     1.1327266|    171.63959|   -1541.5275|\n",
      "|23-Dec-13|3.96|3.97|3.64| 3.92| 29745|     2.7796378|      3.1084414|     3.1870482|     33.12699|    19764.967|\n",
      "|20-Dec-13|4.04|4.08|3.84| 3.84| 65905|     2.1928813|       5.797445|     2.6945717|     -46.3625|     18073.19|\n",
      "|19-Dec-13|3.98|4.05|3.98| 4.01| 25143|     2.5240595|    -0.22593401|     4.5226493|    15.397015|    34621.188|\n",
      "|18-Dec-13|4.01|4.05|4.00|  4.0|  9911|      2.895312|      5.3531976|     3.4047844|    -65.77726|    569.95856|\n",
      "|17-Dec-13|4.02|4.04|3.95| 3.98|  6560|     5.5311637|      2.9470677|     2.1210055|    33.892532|    11701.713|\n",
      "|16-Dec-13|4.04|4.05|4.01| 4.04| 22950|    -1.0274307|      2.1804852|      8.130172|    -8.168307|     23686.56|\n",
      "|13-Dec-13|4.02|4.04|4.00| 4.04|  6776|     1.4757257|      1.1407821|     2.3602195|    41.017994|    26652.852|\n",
      "|12-Dec-13|4.02|4.04|4.00| 4.04| 21254|     1.1722249|     -2.7993708|     1.4232848|    35.082737|    15794.444|\n",
      "|11-Dec-13|4.00|4.04|4.00| 4.04|  8014|    -2.3476915|       9.667516|     4.9887667|   111.042206|     34655.92|\n",
      "|10-Dec-13|4.04|4.04|4.01| 4.04|  6392|      5.101284|      3.9206588|    0.20633578|   -49.947567|   -1100.4797|\n",
      "| 9-Dec-13|4.00|4.03|4.00| 4.03|  4387|     3.0261602|      4.0008655|     4.3422103|   -107.17906|   -12964.345|\n",
      "| 6-Dec-13|4.00|4.04|4.00| 4.02|  9600|      3.522402|       5.468023|      3.414083|    10.979099|    16293.084|\n",
      "| 5-Dec-13|4.04|4.04|4.00|  4.0|  4739|     4.5229597|       4.557814|      4.269169|     72.80355|    1217.3275|\n",
      "| 4-Dec-13|4.02|4.04|4.02| 4.04|   900|      5.250452|      2.0179265|     6.2079515|    190.17027|   -12627.322|\n",
      "| 3-Dec-13|4.03|4.04|4.03| 4.03|  2487|     4.8431597|      1.4982629|     3.7930577|   -122.59045|    29392.568|\n",
      "+---------+----+----+----+-----+------+--------------+---------------+--------------+-------------+-------------+\n",
      "only showing top 20 rows\n",
      "\n"
     ]
    }
   ],
   "source": [
    "num_simulations = 1000\n",
    "mean_open = 2.479037434833667\n",
    "std_dev_open = 1.792742719789236\n",
    "mean_close = 3.5762375610480097\n",
    "std_dev_close = 2.3617920735737727\n",
    "mean_high = 3.6387547097464177\n",
    "std_dev_high = 2.3921509846515936\n",
    "mean_low = 3.512713408899274\n",
    "std_dev_low = 102.3491839152505065\n",
    "mean_vol=7977.757971875619\n",
    "std_dev_vol=16239.129044271978\n",
    "\n",
    "@udf(FloatType())\n",
    "\n",
    "def generate_random_open():\n",
    "    return np.random.normal(mean_open,std_dev_open)\n",
    "\n",
    "@udf(FloatType())\n",
    "def generate_random_close():\n",
    "    return np.random.normal(mean_close, std_dev_close)\n",
    "\n",
    "@udf(FloatType())\n",
    "def generate_random_high():\n",
    "    return np.random.normal(mean_high, std_dev_high)\n",
    "\n",
    "@udf(FloatType())\n",
    "def generate_random_low():\n",
    "    return np.random.normal(mean_low, std_dev_low)\n",
    "\n",
    "@udf(FloatType())\n",
    "def generate_random_vol():\n",
    "  return np.random.normal(mean_vol,std_dev_vol)\n",
    "\n",
    "simulated_prices_df = stocks.select(\n",
    "    \"*\",\n",
    "    generate_random_open().alias(\"simulated_open\"),\n",
    "    generate_random_close().alias(\"simulated_close\"),\n",
    "    generate_random_high().alias(\"simulated_high\"),\n",
    "    generate_random_low().alias(\"simulated_low\"),\n",
    "    generate_random_vol().alias(\"simulated_vol\")\n",
    ")\n",
    "\n",
    "# Show the results\n",
    "simulated_prices_df.show()\n"
   ]
  }
 ],
 "metadata": {
  "kernelspec": {
   "display_name": "Python 3",
   "language": "python",
   "name": "python3"
  },
  "language_info": {
   "codemirror_mode": {
    "name": "ipython",
    "version": 3
   },
   "file_extension": ".py",
   "mimetype": "text/x-python",
   "name": "python",
   "nbconvert_exporter": "python",
   "pygments_lexer": "ipython3",
   "version": "3.11.8"
  }
 },
 "nbformat": 4,
 "nbformat_minor": 2
}
