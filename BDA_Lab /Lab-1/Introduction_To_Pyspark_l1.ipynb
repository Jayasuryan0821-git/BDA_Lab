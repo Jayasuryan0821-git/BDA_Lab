{
  "nbformat": 4,
  "nbformat_minor": 0,
  "metadata": {
    "colab": {
      "provenance": [],
      "authorship_tag": "ABX9TyMie4BUTPDc3LFaeKEVUqQ7",
      "include_colab_link": true
    },
    "kernelspec": {
      "name": "python3",
      "display_name": "Python 3"
    },
    "language_info": {
      "name": "python"
    }
  },
  "cells": [
    {
      "cell_type": "markdown",
      "metadata": {
        "id": "view-in-github",
        "colab_type": "text"
      },
      "source": [
        "<a href=\"https://colab.research.google.com/github/dev0419/BDA_Lab/blob/main/BDA_Lab%20/Lab-1/Introduction_To_Pyspark_l1.ipynb\" target=\"_parent\"><img src=\"https://colab.research.google.com/assets/colab-badge.svg\" alt=\"Open In Colab\"/></a>"
      ]
    },
    {
      "cell_type": "code",
      "execution_count": 1,
      "metadata": {
        "colab": {
          "base_uri": "https://localhost:8080/"
        },
        "id": "DlxvRTS4bKh8",
        "outputId": "4d6d3b25-6537-41cf-8aea-efae4996b355"
      },
      "outputs": [
        {
          "output_type": "stream",
          "name": "stdout",
          "text": [
            "Collecting pyspark\n",
            "  Downloading pyspark-3.5.1.tar.gz (317.0 MB)\n",
            "\u001b[2K     \u001b[90m━━━━━━━━━━━━━━━━━━━━━━━━━━━━━━━━━━━━━━━━\u001b[0m \u001b[32m317.0/317.0 MB\u001b[0m \u001b[31m2.0 MB/s\u001b[0m eta \u001b[36m0:00:00\u001b[0m\n",
            "\u001b[?25h  Preparing metadata (setup.py) ... \u001b[?25l\u001b[?25hdone\n",
            "Requirement already satisfied: py4j==0.10.9.7 in /usr/local/lib/python3.10/dist-packages (from pyspark) (0.10.9.7)\n",
            "Building wheels for collected packages: pyspark\n",
            "  Building wheel for pyspark (setup.py) ... \u001b[?25l\u001b[?25hdone\n",
            "  Created wheel for pyspark: filename=pyspark-3.5.1-py2.py3-none-any.whl size=317488493 sha256=6cd22a00abdc6ec44b8fc585b7fcd4fc7076997f3839d78e680b780aa52795c0\n",
            "  Stored in directory: /root/.cache/pip/wheels/80/1d/60/2c256ed38dddce2fdd93be545214a63e02fbd8d74fb0b7f3a6\n",
            "Successfully built pyspark\n",
            "Installing collected packages: pyspark\n",
            "Successfully installed pyspark-3.5.1\n"
          ]
        }
      ],
      "source": [
        "!pip install pyspark"
      ]
    },
    {
      "cell_type": "markdown",
      "source": [
        "1. Write a PySpark program to square set of integers"
      ],
      "metadata": {
        "id": "VpTPoTpVcsLb"
      }
    },
    {
      "cell_type": "code",
      "source": [
        "import pyspark\n",
        "from pyspark.sql import SparkSession\n",
        "import pandas as pd\n",
        "from pyspark.sql.functions import col\n",
        "spark = SparkSession.builder.appName('Basics').getOrCreate()\n",
        "df = pd.DataFrame({'numbers':[1,2,3,4,5]})\n",
        "df.to_csv('data.csv')\n",
        "df = spark.read.csv('data.csv',header=True,inferSchema=True)\n",
        "df = df.drop('_c0')\n",
        "df.show()\n",
        "df = df.withColumn('Squared_Integers',df['numbers']*df['numbers'])\n",
        "df.show()"
      ],
      "metadata": {
        "colab": {
          "base_uri": "https://localhost:8080/"
        },
        "id": "bfPWSZWcbYaE",
        "outputId": "1be7234b-d440-4d2a-950a-2b9d5bd39a6b"
      },
      "execution_count": 8,
      "outputs": [
        {
          "output_type": "stream",
          "name": "stdout",
          "text": [
            "+-------+\n",
            "|numbers|\n",
            "+-------+\n",
            "|      1|\n",
            "|      2|\n",
            "|      3|\n",
            "|      4|\n",
            "|      5|\n",
            "+-------+\n",
            "\n",
            "+-------+----------------+\n",
            "|numbers|Squared_Integers|\n",
            "+-------+----------------+\n",
            "|      1|               1|\n",
            "|      2|               4|\n",
            "|      3|               9|\n",
            "|      4|              16|\n",
            "|      5|              25|\n",
            "+-------+----------------+\n",
            "\n"
          ]
        }
      ]
    },
    {
      "cell_type": "markdown",
      "source": [
        "2. Write a PySpark program to find the maximum of given set of numbers"
      ],
      "metadata": {
        "id": "gleNuP2Ve2e2"
      }
    },
    {
      "cell_type": "code",
      "source": [
        "from pyspark.sql.functions import max\n",
        "df.select(max(df.numbers).alias('max_num'),\n",
        "          max(df.Squared_Integers).alias('max_sqr_num')).show()"
      ],
      "metadata": {
        "colab": {
          "base_uri": "https://localhost:8080/"
        },
        "id": "73cbD2_ve6jp",
        "outputId": "01880679-45c6-4018-d727-fac02f5383c6"
      },
      "execution_count": 14,
      "outputs": [
        {
          "output_type": "stream",
          "name": "stdout",
          "text": [
            "+-------+-----------+\n",
            "|max_num|max_sqr_num|\n",
            "+-------+-----------+\n",
            "|      5|         25|\n",
            "+-------+-----------+\n",
            "\n"
          ]
        }
      ]
    },
    {
      "cell_type": "markdown",
      "source": [
        "3. Write a PySpark program to find average of N numbers."
      ],
      "metadata": {
        "id": "S_YSAzvbg0lz"
      }
    },
    {
      "cell_type": "code",
      "source": [
        "from pyspark.sql.functions import avg\n",
        "df.select(avg(df.numbers).alias('avg_num'),\n",
        "          avg(df.Squared_Integers).alias('avg_sqr_num')).show()"
      ],
      "metadata": {
        "colab": {
          "base_uri": "https://localhost:8080/"
        },
        "id": "fNBb-NcTg4Ag",
        "outputId": "16f3a945-d544-46bf-a312-0518fbd89871"
      },
      "execution_count": 15,
      "outputs": [
        {
          "output_type": "stream",
          "name": "stdout",
          "text": [
            "+-------+-----------+\n",
            "|avg_num|avg_sqr_num|\n",
            "+-------+-----------+\n",
            "|    3.0|       11.0|\n",
            "+-------+-----------+\n",
            "\n"
          ]
        }
      ]
    },
    {
      "cell_type": "markdown",
      "source": [
        "4. Demonstrate how to read a CSV file into a PySpark DataFrame"
      ],
      "metadata": {
        "id": "uDF3CfE5hS1b"
      }
    },
    {
      "cell_type": "code",
      "source": [
        "df = spark.read.csv('data.csv',inferSchema=True,header=True)\n",
        "df = df.drop('_c0')\n",
        "df.show()"
      ],
      "metadata": {
        "colab": {
          "base_uri": "https://localhost:8080/"
        },
        "id": "h2GmMeOUhSj4",
        "outputId": "15a8ef4d-4f34-4bdd-a0c0-2ceda3b2dcf8"
      },
      "execution_count": 28,
      "outputs": [
        {
          "output_type": "stream",
          "name": "stdout",
          "text": [
            "+-------+\n",
            "|numbers|\n",
            "+-------+\n",
            "|      1|\n",
            "|      2|\n",
            "|      3|\n",
            "|      4|\n",
            "|      5|\n",
            "+-------+\n",
            "\n"
          ]
        }
      ]
    },
    {
      "cell_type": "markdown",
      "source": [
        "5. Use PySpark commands to display the first few rows and schema of a DataFrame"
      ],
      "metadata": {
        "id": "MGW3CszniBwp"
      }
    },
    {
      "cell_type": "code",
      "source": [
        "df.show(5)\n",
        "df.printSchema()"
      ],
      "metadata": {
        "colab": {
          "base_uri": "https://localhost:8080/"
        },
        "id": "POZT3lPhiDed",
        "outputId": "cd4835a2-5f55-498b-d2c2-e63fa8b37acb"
      },
      "execution_count": 29,
      "outputs": [
        {
          "output_type": "stream",
          "name": "stdout",
          "text": [
            "+-------+\n",
            "|numbers|\n",
            "+-------+\n",
            "|      1|\n",
            "|      2|\n",
            "|      3|\n",
            "|      4|\n",
            "|      5|\n",
            "+-------+\n",
            "\n",
            "root\n",
            " |-- numbers: integer (nullable = true)\n",
            "\n"
          ]
        }
      ]
    },
    {
      "cell_type": "markdown",
      "source": [
        "6. Calculate basic summary statistics for a specific *column* in the DataFrame"
      ],
      "metadata": {
        "id": "peSlDCpPibWM"
      }
    },
    {
      "cell_type": "code",
      "source": [
        "df.describe().show()"
      ],
      "metadata": {
        "colab": {
          "base_uri": "https://localhost:8080/"
        },
        "id": "I54Yr7kCihqu",
        "outputId": "60dfb364-9c1f-4da0-de78-06193f4135ec"
      },
      "execution_count": 30,
      "outputs": [
        {
          "output_type": "stream",
          "name": "stdout",
          "text": [
            "+-------+------------------+\n",
            "|summary|           numbers|\n",
            "+-------+------------------+\n",
            "|  count|                 5|\n",
            "|   mean|               3.0|\n",
            "| stddev|1.5811388300841898|\n",
            "|    min|                 1|\n",
            "|    max|                 5|\n",
            "+-------+------------------+\n",
            "\n"
          ]
        }
      ]
    }
  ]
}